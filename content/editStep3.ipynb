{
  "cells": [
    {
      "cell_type": "code",
      "execution_count": null,
      "metadata": {
        "trusted": true
      },
      "outputs": [],
      "source": [
        "print(\"Willkommen beim Wettbewerb der Roboter\")\n",
        "print(\"Auf welchem Planeten leben Menschen?\")\n",
        "print(\"Antwort A: Erde\")\n",
        "print(\"Antwort B: Merkur\")\n",
        "print(\"Antwort C: Venus\")\n",
        "print(\"Antwort D: Neptun\")\n",
        "print(\"Gib als Antwort A, B, C oder D ein\")"
      ]
    }
  ],
  "metadata": {
    "language_info": {
      "codemirror_mode": {
        "name": "python",
        "version": 3
      },
      "file_extension": ".py",
      "mimetype": "text/x-python",
      "name": "python",
      "nbconvert_exporter": "python",
      "pygments_lexer": "ipython3",
      "version": "3.8"
    }
  },
  "nbformat": 4,
  "nbformat_minor": 4
}
